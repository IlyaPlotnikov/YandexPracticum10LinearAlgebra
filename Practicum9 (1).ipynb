{
 "cells": [
  {
   "cell_type": "markdown",
   "metadata": {},
   "source": []
  },
  {
   "cell_type": "markdown",
   "metadata": {
    "toc": true
   },
   "source": []
  },
  {
   "cell_type": "markdown",
   "metadata": {},
   "source": [
    "# Защита персональных данных клиентов"
   ]
  },
  {
   "cell_type": "markdown",
   "metadata": {},
   "source": [
    "Вам нужно защитить данные клиентов страховой компании «Хоть потоп». Разработайте такой метод преобразования данных, чтобы по ним было сложно восстановить персональную информацию. Обоснуйте корректность его работы.\n",
    "\n",
    "Нужно защитить данные, чтобы при преобразовании качество моделей машинного обучения не ухудшилось. Подбирать наилучшую модель не требуется."
   ]
  },
  {
   "cell_type": "markdown",
   "metadata": {},
   "source": [
    "## Загрузка данных"
   ]
  },
  {
   "cell_type": "code",
   "execution_count": 1,
   "metadata": {},
   "outputs": [],
   "source": [
    "import pandas as pd\n",
    "import numpy as np\n",
    "import random\n",
    "from sklearn.model_selection import train_test_split\n",
    "from sklearn.preprocessing import StandardScaler\n",
    "from sklearn.pipeline import Pipeline\n",
    "from sklearn.linear_model import LinearRegression\n",
    "from sklearn.metrics import r2_score"
   ]
  },
  {
   "cell_type": "code",
   "execution_count": 2,
   "metadata": {},
   "outputs": [],
   "source": [
    "df=pd.read_csv('/datasets/insurance.csv')"
   ]
  },
  {
   "cell_type": "code",
   "execution_count": 3,
   "metadata": {},
   "outputs": [
    {
     "data": {
      "text/html": [
       "<div>\n",
       "<style scoped>\n",
       "    .dataframe tbody tr th:only-of-type {\n",
       "        vertical-align: middle;\n",
       "    }\n",
       "\n",
       "    .dataframe tbody tr th {\n",
       "        vertical-align: top;\n",
       "    }\n",
       "\n",
       "    .dataframe thead th {\n",
       "        text-align: right;\n",
       "    }\n",
       "</style>\n",
       "<table border=\"1\" class=\"dataframe\">\n",
       "  <thead>\n",
       "    <tr style=\"text-align: right;\">\n",
       "      <th></th>\n",
       "      <th>Пол</th>\n",
       "      <th>Возраст</th>\n",
       "      <th>Зарплата</th>\n",
       "      <th>Члены семьи</th>\n",
       "      <th>Страховые выплаты</th>\n",
       "    </tr>\n",
       "  </thead>\n",
       "  <tbody>\n",
       "    <tr>\n",
       "      <th>0</th>\n",
       "      <td>1</td>\n",
       "      <td>41.0</td>\n",
       "      <td>49600.0</td>\n",
       "      <td>1</td>\n",
       "      <td>0</td>\n",
       "    </tr>\n",
       "    <tr>\n",
       "      <th>1</th>\n",
       "      <td>0</td>\n",
       "      <td>46.0</td>\n",
       "      <td>38000.0</td>\n",
       "      <td>1</td>\n",
       "      <td>1</td>\n",
       "    </tr>\n",
       "    <tr>\n",
       "      <th>2</th>\n",
       "      <td>0</td>\n",
       "      <td>29.0</td>\n",
       "      <td>21000.0</td>\n",
       "      <td>0</td>\n",
       "      <td>0</td>\n",
       "    </tr>\n",
       "    <tr>\n",
       "      <th>3</th>\n",
       "      <td>0</td>\n",
       "      <td>21.0</td>\n",
       "      <td>41700.0</td>\n",
       "      <td>2</td>\n",
       "      <td>0</td>\n",
       "    </tr>\n",
       "    <tr>\n",
       "      <th>4</th>\n",
       "      <td>1</td>\n",
       "      <td>28.0</td>\n",
       "      <td>26100.0</td>\n",
       "      <td>0</td>\n",
       "      <td>0</td>\n",
       "    </tr>\n",
       "  </tbody>\n",
       "</table>\n",
       "</div>"
      ],
      "text/plain": [
       "   Пол  Возраст  Зарплата  Члены семьи  Страховые выплаты\n",
       "0    1     41.0   49600.0            1                  0\n",
       "1    0     46.0   38000.0            1                  1\n",
       "2    0     29.0   21000.0            0                  0\n",
       "3    0     21.0   41700.0            2                  0\n",
       "4    1     28.0   26100.0            0                  0"
      ]
     },
     "execution_count": 3,
     "metadata": {},
     "output_type": "execute_result"
    }
   ],
   "source": [
    "df.head()"
   ]
  },
  {
   "cell_type": "code",
   "execution_count": 25,
   "metadata": {},
   "outputs": [
    {
     "name": "stdout",
     "output_type": "stream",
     "text": [
      "<class 'pandas.core.frame.DataFrame'>\n",
      "RangeIndex: 5000 entries, 0 to 4999\n",
      "Data columns (total 5 columns):\n",
      " #   Column             Non-Null Count  Dtype  \n",
      "---  ------             --------------  -----  \n",
      " 0   Пол                5000 non-null   int64  \n",
      " 1   Возраст            5000 non-null   float64\n",
      " 2   Зарплата           5000 non-null   float64\n",
      " 3   Члены семьи        5000 non-null   int64  \n",
      " 4   Страховые выплаты  5000 non-null   int64  \n",
      "dtypes: float64(2), int64(3)\n",
      "memory usage: 195.4 KB\n"
     ]
    }
   ],
   "source": [
    "df.info()"
   ]
  },
  {
   "cell_type": "markdown",
   "metadata": {},
   "source": []
  },
  {
   "cell_type": "markdown",
   "metadata": {},
   "source": [
    "<div class=\"alert alert-block alert-info\">\n",
    " Пропуски в данных отсутствуют. Также видно, что перед нами классическая задача классификации(предсказываем, есть ли страховые выплаты или нет). Наличие нулей в \"Члены семьи\" свидетельствует о том, что отсчет идет с нуля.(0 - 1 человек и т.д)\n",
    "</div>"
   ]
  },
  {
   "cell_type": "markdown",
   "metadata": {},
   "source": []
  },
  {
   "cell_type": "markdown",
   "metadata": {},
   "source": [
    "## Умножение матриц"
   ]
  },
  {
   "cell_type": "markdown",
   "metadata": {},
   "source": [
    "В этом задании вы можете записывать формулы в *Jupyter Notebook.*\n",
    "\n",
    "Чтобы записать формулу внутри текста, окружите её символами доллара \\\\$; если снаружи —  двойными символами \\\\$\\\\$. Эти формулы записываются на языке вёрстки *LaTeX.* \n",
    "\n",
    "Для примера мы записали формулы линейной регрессии. Можете их скопировать и отредактировать, чтобы решить задачу.\n",
    "\n",
    "Работать в *LaTeX* необязательно."
   ]
  },
  {
   "cell_type": "markdown",
   "metadata": {},
   "source": [
    "Обозначения:\n",
    "\n",
    "- $X$ — матрица признаков (нулевой столбец состоит из единиц)\n",
    "\n",
    "- $y$ — вектор целевого признака\n",
    "\n",
    "- $P$ — матрица, на которую умножаются признаки\n",
    "\n",
    "- $w$ — вектор весов линейной регрессии (нулевой элемент равен сдвигу)"
   ]
  },
  {
   "cell_type": "markdown",
   "metadata": {},
   "source": [
    "Предсказания:\n",
    "\n",
    "$$\n",
    "a = Xw\n",
    "$$\n",
    "\n",
    "Задача обучения:\n",
    "\n",
    "$$\n",
    "w = \\arg\\min_w MSE(Xw, y)\n",
    "$$\n",
    "\n",
    "Формула обучения:\n",
    "\n",
    "$$\n",
    "w = (X^T X)^{-1} X^T y\n",
    "$$"
   ]
  },
  {
   "cell_type": "markdown",
   "metadata": {},
   "source": [
    "Вопрос: Признаки умножают на обратимую матрицу. Изменится ли качество линейной регрессии?"
   ]
  },
  {
   "cell_type": "markdown",
   "metadata": {},
   "source": [
    "**Ответ:** Нет. Качество не изменится.\n",
    "\n",
    "**Обоснование:** \n",
    "\n",
    "${Доказательство}\n",
    "$\n",
    "Умножение матрицы признаков на некоторую обратимую матрицу(очевидно, совпадающей размерности) будем обозначать следующим образом:$XP$ "
   ]
  },
  {
   "cell_type": "markdown",
   "metadata": {},
   "source": [
    "Подставим в формулу \n",
    "\n",
    "$$\n",
    "a = Xw\n",
    "$$"
   ]
  },
  {
   "cell_type": "markdown",
   "metadata": {},
   "source": [
    "вместо w \n",
    "$$\n",
    "(X^T X)^{-1} X^T y\n",
    "$$\n",
    "Получим:\n",
    "$$\n",
    "a=X(X^TX)^{-1}X^Ty\n",
    "$$\n",
    "Требуется умножать матрицу признаков X на обратимую матрицу P. Заменим все X на XP:\n",
    "$$\n",
    "a_1=XP((XP)^TXP)^{-1}(XP)^Ty\n",
    "$$\n",
    "Из университетского курса линейной алгебры известны следующие свойства умножения матриц:\n",
    "$$\n",
    "(AB)^{-1}=B^{-1}A^{-1}\n",
    "$$\n",
    "$$\n",
    "(AB)^{T}=B^{T}A^{T}\n",
    "$$\n",
    "Используя это свойство, раскроем скобки:"
   ]
  },
  {
   "cell_type": "markdown",
   "metadata": {},
   "source": [
    "$$\n",
    "a_1= XP(XP)^{-1} ((XP)^T)^{-1} P^T X^Ty\n",
    "$$\n",
    "\n"
   ]
  },
  {
   "cell_type": "markdown",
   "metadata": {},
   "source": [
    "$$\n",
    "a_1=XPP^{-1}X^{-1} (X^T)^{-1} (P^T)^{-1} P^TX^Ty\n",
    "$$\n"
   ]
  },
  {
   "cell_type": "markdown",
   "metadata": {},
   "source": []
  },
  {
   "cell_type": "markdown",
   "metadata": {},
   "source": [
    "Исправленный вариант:\n",
    "Вернемся к состоянию \n",
    "$$\n",
    "a_1= XP(XP)^{-1} ((XP)^T)^{-1} P^T X^Ty\n",
    "$$\n",
    "Произведение $XP(XP)^{-1}$ дает единичную матрицу:\n",
    "$$\n",
    "a_1= E((XP)^T)^{-1} P^T X^Ty\n",
    "$$\n",
    "Свернем обратно $P^T X^T$:\n",
    "$$\n",
    "a_1= E((XP)^T)^{-1} (XP)^Ty\n",
    "$$\n",
    "Произведение $((XP)^T)^{-1} (XP)^T$ дает единичную матрицу:\n",
    "$$\n",
    "a_1= Ey\n",
    "$$\n",
    "Отсюда $a_1=y=a$"
   ]
  },
  {
   "cell_type": "markdown",
   "metadata": {},
   "source": []
  },
  {
   "cell_type": "markdown",
   "metadata": {},
   "source": []
  },
  {
   "cell_type": "markdown",
   "metadata": {},
   "source": [
    "$$\n",
    "a_1=XP((XP)^TXP)^{-1}(XP)^Ty\n",
    "$$\n",
    "\n",
    "$$\n",
    "a_1=XP(XP)^{-1}((XP)^T)^{-1}(XP)^Ty\n",
    "$$\n",
    "\n",
    "$$\n",
    "a_1=XPP^{-1}X^{-1}((XP)^T)^{-1}(XP)^Ty\n",
    "$$\n",
    "\n"
   ]
  },
  {
   "cell_type": "markdown",
   "metadata": {},
   "source": [
    "$$\n",
    "a_1=XEX^{-1}((XP)^T)^{-1}(XP)^Ty\n",
    "$$\n"
   ]
  },
  {
   "cell_type": "markdown",
   "metadata": {},
   "source": [
    "$$\n",
    "a_1=XX^{-1}(P^TX^T)^{-1}P^TX^Ty=XX^{-1}(X^T)^{-1}(P^T)^{-1}P^TX^Ty\n",
    "$$\n"
   ]
  },
  {
   "cell_type": "markdown",
   "metadata": {},
   "source": [
    "$$\n",
    "a_1=XX^{-1}(X^T)^{-1}EX^Ty=X(X^TX)^{-1}X^Ty=Xw=a\n",
    "$$\n"
   ]
  },
  {
   "cell_type": "markdown",
   "metadata": {},
   "source": []
  },
  {
   "cell_type": "markdown",
   "metadata": {},
   "source": [
    "$$\n",
    "a' = XP((XP)^T XP)^{-1} (XP)^T y\n",
    "$$\n",
    "$$\n",
    "a' = XP(P^T (X^T X) P)^{-1} (XP)^T y\n",
    "$$\n",
    "$$\n",
    "a' = XP(P^T (X^T X) P)^{-1} P^T X^T y\n",
    "$$"
   ]
  },
  {
   "cell_type": "markdown",
   "metadata": {},
   "source": [
    "$$\n",
    "a' = XPP^{-1}(X^TX)^{-1}(P^T)^{-1}P^TX^Ty\n",
    "$$\n",
    "\n",
    "$$\n",
    "a' = X(X^TX)^{-1}(P^T)^{-1}P^TX^Ty\n",
    "$$\n",
    "\n",
    "$$\n",
    "a' = X(X^TX)^{-1}X^Ty\n",
    "$$\n",
    "Т.к\n",
    "$$\n",
    "w=(X^TX)^{-1} X^Ty\n",
    "$$\n",
    "Получаем\n",
    "$$\n",
    "Xw=a'\n",
    "$$"
   ]
  },
  {
   "cell_type": "markdown",
   "metadata": {},
   "source": []
  },
  {
   "cell_type": "markdown",
   "metadata": {},
   "source": [
    "Укажем, как связаны параметры линейной регрессии в исходной задаче и в преобразованной."
   ]
  },
  {
   "cell_type": "code",
   "execution_count": 4,
   "metadata": {},
   "outputs": [],
   "source": [
    "features=df.drop('Страховые выплаты',axis=1)\n",
    "target=df['Страховые выплаты']"
   ]
  },
  {
   "cell_type": "code",
   "execution_count": 5,
   "metadata": {},
   "outputs": [],
   "source": [
    "features_train, features_test, target_train, target_test = train_test_split(features, target,\n",
    "                                                                            test_size=0.25, random_state=12345)"
   ]
  },
  {
   "cell_type": "code",
   "execution_count": 6,
   "metadata": {},
   "outputs": [
    {
     "data": {
      "text/plain": [
       "LinearRegression()"
      ]
     },
     "execution_count": 6,
     "metadata": {},
     "output_type": "execute_result"
    }
   ],
   "source": [
    "model=LinearRegression()\n",
    "model.fit(features_train,target_train)"
   ]
  },
  {
   "cell_type": "code",
   "execution_count": 7,
   "metadata": {},
   "outputs": [],
   "source": [
    "predictions=model.predict(features_test)"
   ]
  },
  {
   "cell_type": "markdown",
   "metadata": {},
   "source": [
    "Метрика R2"
   ]
  },
  {
   "cell_type": "code",
   "execution_count": 8,
   "metadata": {},
   "outputs": [
    {
     "name": "stdout",
     "output_type": "stream",
     "text": [
      "0.43522757127026546\n"
     ]
    }
   ],
   "source": [
    "print(r2_score(target_test,predictions))"
   ]
  },
  {
   "cell_type": "markdown",
   "metadata": {},
   "source": [
    "По формуле \n",
    "$$\n",
    "(X^TX)^{-1}X^Ty\n",
    "$$"
   ]
  },
  {
   "cell_type": "code",
   "execution_count": 9,
   "metadata": {},
   "outputs": [],
   "source": [
    "X = np.concatenate((np.ones((features_train.shape[0], 1)), features_train), axis=1)\n",
    "y = target_train\n",
    "w = np.linalg.inv(X.T.dot(X))@ X.T @ y "
   ]
  },
  {
   "cell_type": "code",
   "execution_count": 10,
   "metadata": {},
   "outputs": [
    {
     "name": "stdout",
     "output_type": "stream",
     "text": [
      "[ 1.79258369e-02  3.57228278e-02 -5.46000708e-07 -1.26186590e-02]\n"
     ]
    }
   ],
   "source": [
    "print(w[1:])"
   ]
  },
  {
   "cell_type": "code",
   "execution_count": 11,
   "metadata": {},
   "outputs": [
    {
     "data": {
      "text/plain": [
       "array([ 1.79258369e-02,  3.57228278e-02, -5.46000708e-07, -1.26186590e-02])"
      ]
     },
     "execution_count": 11,
     "metadata": {},
     "output_type": "execute_result"
    }
   ],
   "source": [
    "model.coef_"
   ]
  },
  {
   "cell_type": "markdown",
   "metadata": {},
   "source": [
    "Коэффициенты регрессии совпадают."
   ]
  },
  {
   "cell_type": "markdown",
   "metadata": {},
   "source": [
    "## Алгоритм преобразования"
   ]
  },
  {
   "cell_type": "markdown",
   "metadata": {},
   "source": [
    "**Алгоритм**\n",
    "\n",
    "Выше было выяснено, что умножение матрицы признаков на некоторую обратимую матрицу не ухудшит качество регрессии. Поэтому, на этапе поиска коэффициентов, умножим X на P. P будем генерировать(в курсе было сказано, что вероятность получить необратимую матрицу практически равна нулю)."
   ]
  },
  {
   "cell_type": "markdown",
   "metadata": {},
   "source": [
    "**Обоснование**\n",
    "\n",
    "Качество линеной регрессии не изменится, ввиду проведенных выше теоретических выкладок(пункт 2)"
   ]
  },
  {
   "cell_type": "markdown",
   "metadata": {},
   "source": [
    "## Проверка алгоритма"
   ]
  },
  {
   "cell_type": "markdown",
   "metadata": {},
   "source": [
    "Поделил выборки на две части(train и test), дабы потом умножить каждую из них на матрицу P"
   ]
  },
  {
   "cell_type": "code",
   "execution_count": 12,
   "metadata": {},
   "outputs": [
    {
     "name": "stdout",
     "output_type": "stream",
     "text": [
      "(3750, 5)\n"
     ]
    }
   ],
   "source": [
    "X_train=features_train.values\n",
    "print(X.shape)"
   ]
  },
  {
   "cell_type": "code",
   "execution_count": 13,
   "metadata": {},
   "outputs": [],
   "source": [
    "X_test=features_test.values"
   ]
  },
  {
   "cell_type": "markdown",
   "metadata": {},
   "source": [
    "Матрица должна быть квадратной, а значит будет размерности 4x4(дабы совпадать с количеством признаков и была возможность умножать матрицы)"
   ]
  },
  {
   "cell_type": "code",
   "execution_count": 21,
   "metadata": {},
   "outputs": [],
   "source": [
    "P = [[random.randrange(0,10) for y in range(4)] for x in range(4)]"
   ]
  },
  {
   "cell_type": "markdown",
   "metadata": {},
   "source": [
    "\n"
   ]
  },
  {
   "cell_type": "markdown",
   "metadata": {},
   "source": []
  },
  {
   "cell_type": "markdown",
   "metadata": {},
   "source": []
  },
  {
   "cell_type": "code",
   "execution_count": 22,
   "metadata": {},
   "outputs": [
    {
     "name": "stdout",
     "output_type": "stream",
     "text": [
      "422.99999999999983\n"
     ]
    }
   ],
   "source": [
    "determinant=np.linalg.det(P)\n",
    "print(determinant)\n",
    "if determinant==0:\n",
    "    P = [[random.randrange(0,10) for y in range(4)] for x in range(4)]\n",
    "    determinant=np.linalg.det(P)\n",
    "    print(determinant)"
   ]
  },
  {
   "cell_type": "code",
   "execution_count": 15,
   "metadata": {},
   "outputs": [
    {
     "name": "stdout",
     "output_type": "stream",
     "text": [
      "[[2, 2, 9, 7], [2, 8, 2, 1], [0, 4, 0, 0], [9, 7, 5, 7]]\n"
     ]
    }
   ],
   "source": [
    "print(P)\n"
   ]
  },
  {
   "cell_type": "code",
   "execution_count": 17,
   "metadata": {},
   "outputs": [
    {
     "name": "stdout",
     "output_type": "stream",
     "text": [
      "[[9.70000e+01 1.45153e+05 1.00000e+02 5.70000e+01]\n",
      " [7.00000e+01 2.30674e+05 7.70000e+01 4.10000e+01]\n",
      " [7.30000e+01 1.64663e+05 6.90000e+01 3.90000e+01]\n",
      " ...\n",
      " [9.30000e+01 1.79137e+05 9.60000e+01 5.50000e+01]\n",
      " [8.00000e+01 2.00604e+05 6.40000e+01 5.00000e+01]\n",
      " [3.80000e+01 1.63352e+05 3.80000e+01 1.90000e+01]]\n"
     ]
    }
   ],
   "source": [
    "Z_train=X_train @ P\n",
    "print(Z_train)"
   ]
  },
  {
   "cell_type": "code",
   "execution_count": null,
   "metadata": {},
   "outputs": [],
   "source": [
    "Z_test=X_test @ P"
   ]
  },
  {
   "cell_type": "code",
   "execution_count": null,
   "metadata": {},
   "outputs": [],
   "source": [
    "print(Z_test.shape)"
   ]
  },
  {
   "cell_type": "code",
   "execution_count": null,
   "metadata": {},
   "outputs": [],
   "source": [
    "print(Z_train.shape)"
   ]
  },
  {
   "cell_type": "markdown",
   "metadata": {},
   "source": [
    "Теперь обучимся на этих данных:"
   ]
  },
  {
   "cell_type": "code",
   "execution_count": null,
   "metadata": {},
   "outputs": [],
   "source": [
    "model_Z=LinearRegression()\n",
    "model_Z.fit(Z_train, target_train)"
   ]
  },
  {
   "cell_type": "code",
   "execution_count": null,
   "metadata": {},
   "outputs": [],
   "source": [
    "predictions_z=model_Z.predict(Z_test)"
   ]
  },
  {
   "cell_type": "code",
   "execution_count": null,
   "metadata": {},
   "outputs": [],
   "source": [
    "print(r2_score(target_test,predictions))"
   ]
  },
  {
   "cell_type": "markdown",
   "metadata": {},
   "source": [
    "Значение, полученное до Z-преобразования было 0.43522757127026546. Отличий действительно нет"
   ]
  },
  {
   "cell_type": "markdown",
   "metadata": {},
   "source": [
    "## Вывод"
   ]
  },
  {
   "cell_type": "markdown",
   "metadata": {},
   "source": [
    "В ходе выполнения проекта было доказано, что умножение матрицы признаков на случайную обратимую не ухудшает качество модели. Этот факт может позволить преобразовывать данные и, тем самым, делать их защищенными от третьих лиц. В ходе выполнения проекта этот алгоритм был испытан и доказал свою работоспособность и отсутствие ухудшения качества. Для усиления защиты можно генерировать элементы новой матрицы P(обратимой) с большим разбросом значений(все равно метрика R2 останется неизменной)"
   ]
  },
  {
   "cell_type": "markdown",
   "metadata": {},
   "source": [
    "## Чек-лист проверки"
   ]
  },
  {
   "cell_type": "markdown",
   "metadata": {},
   "source": [
    "Поставьте 'x' в выполненных пунктах. Далее нажмите Shift+Enter."
   ]
  }
 ],
 "metadata": {
  "ExecuteTimeLog": [
   {
    "duration": 396,
    "start_time": "2022-07-23T09:42:38.562Z"
   },
   {
    "duration": 84,
    "start_time": "2022-07-23T09:42:39.151Z"
   },
   {
    "duration": 13,
    "start_time": "2022-07-23T09:43:15.242Z"
   },
   {
    "duration": 72,
    "start_time": "2022-07-23T10:34:29.603Z"
   },
   {
    "duration": 91,
    "start_time": "2022-07-23T10:34:49.901Z"
   },
   {
    "duration": 73,
    "start_time": "2022-07-23T10:34:51.739Z"
   },
   {
    "duration": 75,
    "start_time": "2022-07-23T10:50:48.635Z"
   },
   {
    "duration": 70,
    "start_time": "2022-07-23T10:50:52.884Z"
   },
   {
    "duration": 5,
    "start_time": "2022-07-23T11:26:26.180Z"
   },
   {
    "duration": 56,
    "start_time": "2022-07-23T11:26:42.027Z"
   },
   {
    "duration": 4,
    "start_time": "2022-07-23T11:26:51.159Z"
   },
   {
    "duration": 9,
    "start_time": "2022-07-23T11:40:22.102Z"
   },
   {
    "duration": 978,
    "start_time": "2022-07-23T11:40:33.723Z"
   },
   {
    "duration": 31,
    "start_time": "2022-07-23T11:40:34.704Z"
   },
   {
    "duration": 11,
    "start_time": "2022-07-23T11:40:34.737Z"
   },
   {
    "duration": 5,
    "start_time": "2022-07-23T11:40:35.131Z"
   },
   {
    "duration": 6,
    "start_time": "2022-07-23T11:40:35.311Z"
   },
   {
    "duration": 8,
    "start_time": "2022-07-23T11:40:55.890Z"
   },
   {
    "duration": 56,
    "start_time": "2022-07-23T11:41:18.703Z"
   },
   {
    "duration": 8,
    "start_time": "2022-07-23T11:41:30.890Z"
   },
   {
    "duration": 5,
    "start_time": "2022-07-23T11:41:33.265Z"
   },
   {
    "duration": 4,
    "start_time": "2022-07-23T11:42:05.768Z"
   },
   {
    "duration": 4,
    "start_time": "2022-07-23T11:44:10.266Z"
   },
   {
    "duration": 4,
    "start_time": "2022-07-23T11:44:38.053Z"
   },
   {
    "duration": 10,
    "start_time": "2022-07-23T11:47:04.574Z"
   },
   {
    "duration": 12,
    "start_time": "2022-07-23T11:47:15.215Z"
   },
   {
    "duration": 18,
    "start_time": "2022-07-23T11:47:30.398Z"
   },
   {
    "duration": 3,
    "start_time": "2022-07-23T11:49:17.370Z"
   },
   {
    "duration": 12,
    "start_time": "2022-07-23T11:49:22.168Z"
   },
   {
    "duration": 5,
    "start_time": "2022-07-23T11:49:28.516Z"
   },
   {
    "duration": 365,
    "start_time": "2022-07-23T11:49:31.550Z"
   },
   {
    "duration": 5,
    "start_time": "2022-07-23T11:50:07.747Z"
   },
   {
    "duration": 357,
    "start_time": "2022-07-23T11:50:21.912Z"
   },
   {
    "duration": 395,
    "start_time": "2022-07-23T11:50:36.841Z"
   },
   {
    "duration": 287,
    "start_time": "2022-07-23T11:51:16.900Z"
   },
   {
    "duration": 9,
    "start_time": "2022-07-23T12:01:50.051Z"
   },
   {
    "duration": 8,
    "start_time": "2022-07-23T12:02:05.155Z"
   },
   {
    "duration": 4,
    "start_time": "2022-07-23T12:02:11.081Z"
   },
   {
    "duration": 4,
    "start_time": "2022-07-23T12:02:29.080Z"
   },
   {
    "duration": 4,
    "start_time": "2022-07-23T12:02:52.841Z"
   },
   {
    "duration": 3,
    "start_time": "2022-07-23T12:03:00.040Z"
   },
   {
    "duration": 10,
    "start_time": "2022-07-23T12:10:05.848Z"
   },
   {
    "duration": 2,
    "start_time": "2022-07-23T12:10:10.640Z"
   },
   {
    "duration": 4,
    "start_time": "2022-07-23T12:10:21.542Z"
   },
   {
    "duration": 13,
    "start_time": "2022-07-23T12:13:30.351Z"
   },
   {
    "duration": 3,
    "start_time": "2022-07-23T12:13:39.007Z"
   },
   {
    "duration": 3,
    "start_time": "2022-07-23T12:13:42.997Z"
   },
   {
    "duration": 3,
    "start_time": "2022-07-23T12:13:48.181Z"
   },
   {
    "duration": 2,
    "start_time": "2022-07-23T12:14:10.635Z"
   },
   {
    "duration": 4,
    "start_time": "2022-07-23T12:14:14.767Z"
   },
   {
    "duration": 3,
    "start_time": "2022-07-23T14:10:43.118Z"
   },
   {
    "duration": 7,
    "start_time": "2022-07-23T14:11:12.078Z"
   },
   {
    "duration": 3,
    "start_time": "2022-07-23T14:11:17.708Z"
   },
   {
    "duration": 3,
    "start_time": "2022-07-23T14:11:27.901Z"
   },
   {
    "duration": 6,
    "start_time": "2022-07-23T14:11:36.008Z"
   },
   {
    "duration": 36,
    "start_time": "2022-07-23T14:11:36.045Z"
   },
   {
    "duration": 10,
    "start_time": "2022-07-23T14:11:36.083Z"
   },
   {
    "duration": 4,
    "start_time": "2022-07-23T14:11:37.077Z"
   },
   {
    "duration": 5,
    "start_time": "2022-07-23T14:11:37.243Z"
   },
   {
    "duration": 7,
    "start_time": "2022-07-23T14:11:37.385Z"
   },
   {
    "duration": 4,
    "start_time": "2022-07-23T14:11:37.540Z"
   },
   {
    "duration": 4,
    "start_time": "2022-07-23T14:11:37.897Z"
   },
   {
    "duration": 4,
    "start_time": "2022-07-23T14:11:38.290Z"
   },
   {
    "duration": 3,
    "start_time": "2022-07-23T14:11:38.547Z"
   },
   {
    "duration": 4,
    "start_time": "2022-07-23T14:11:38.766Z"
   },
   {
    "duration": 4,
    "start_time": "2022-07-23T14:11:40.306Z"
   },
   {
    "duration": 5,
    "start_time": "2022-07-23T14:11:40.653Z"
   },
   {
    "duration": 3,
    "start_time": "2022-07-23T14:11:40.830Z"
   },
   {
    "duration": 8,
    "start_time": "2022-07-23T14:11:41.169Z"
   },
   {
    "duration": 3,
    "start_time": "2022-07-23T14:11:42.138Z"
   },
   {
    "duration": 8,
    "start_time": "2022-07-23T14:12:09.841Z"
   },
   {
    "duration": 2,
    "start_time": "2022-07-23T14:12:18.271Z"
   },
   {
    "duration": 3,
    "start_time": "2022-07-23T14:12:19.667Z"
   },
   {
    "duration": 3,
    "start_time": "2022-07-23T14:12:20.050Z"
   },
   {
    "duration": 5,
    "start_time": "2022-07-23T14:12:28.238Z"
   },
   {
    "duration": 3,
    "start_time": "2022-07-23T14:12:57.938Z"
   },
   {
    "duration": 3,
    "start_time": "2022-07-23T14:12:58.476Z"
   },
   {
    "duration": 3,
    "start_time": "2022-07-23T14:12:58.771Z"
   },
   {
    "duration": 4,
    "start_time": "2022-07-23T14:13:04.526Z"
   },
   {
    "duration": 2,
    "start_time": "2022-07-23T14:13:13.898Z"
   },
   {
    "duration": 4,
    "start_time": "2022-07-23T14:13:24.559Z"
   },
   {
    "duration": 3,
    "start_time": "2022-07-23T14:13:30.140Z"
   },
   {
    "duration": 14,
    "start_time": "2022-07-23T14:14:11.540Z"
   },
   {
    "duration": 12,
    "start_time": "2022-07-23T14:14:16.941Z"
   },
   {
    "duration": 6,
    "start_time": "2022-07-23T14:14:19.872Z"
   },
   {
    "duration": 5,
    "start_time": "2022-07-23T14:14:30.696Z"
   },
   {
    "duration": 4,
    "start_time": "2022-07-23T14:15:13.360Z"
   },
   {
    "duration": 1125,
    "start_time": "2022-07-24T06:03:20.292Z"
   },
   {
    "duration": 77,
    "start_time": "2022-07-24T06:03:21.419Z"
   },
   {
    "duration": 15,
    "start_time": "2022-07-24T06:03:21.498Z"
   },
   {
    "duration": 4,
    "start_time": "2022-07-24T06:03:21.516Z"
   },
   {
    "duration": 10,
    "start_time": "2022-07-24T06:03:21.522Z"
   },
   {
    "duration": 12,
    "start_time": "2022-07-24T06:03:21.534Z"
   },
   {
    "duration": 5,
    "start_time": "2022-07-24T06:03:21.548Z"
   },
   {
    "duration": 18,
    "start_time": "2022-07-24T06:03:21.555Z"
   },
   {
    "duration": 13,
    "start_time": "2022-07-24T06:03:21.576Z"
   },
   {
    "duration": 5,
    "start_time": "2022-07-24T06:03:21.624Z"
   },
   {
    "duration": 93,
    "start_time": "2022-07-24T06:03:21.632Z"
   },
   {
    "duration": 13,
    "start_time": "2022-07-24T06:03:21.727Z"
   },
   {
    "duration": 11,
    "start_time": "2022-07-24T06:03:21.742Z"
   },
   {
    "duration": 7,
    "start_time": "2022-07-24T06:03:21.754Z"
   },
   {
    "duration": 5,
    "start_time": "2022-07-24T06:03:21.763Z"
   },
   {
    "duration": 129,
    "start_time": "2022-07-24T06:03:21.769Z"
   },
   {
    "duration": 0,
    "start_time": "2022-07-24T06:03:21.900Z"
   },
   {
    "duration": 0,
    "start_time": "2022-07-24T06:03:21.903Z"
   },
   {
    "duration": 0,
    "start_time": "2022-07-24T06:03:21.904Z"
   },
   {
    "duration": 0,
    "start_time": "2022-07-24T06:03:21.906Z"
   },
   {
    "duration": 0,
    "start_time": "2022-07-24T06:03:21.907Z"
   },
   {
    "duration": 0,
    "start_time": "2022-07-24T06:03:21.909Z"
   },
   {
    "duration": 4,
    "start_time": "2022-07-24T06:04:03.122Z"
   },
   {
    "duration": 3,
    "start_time": "2022-07-24T06:04:20.883Z"
   },
   {
    "duration": 3,
    "start_time": "2022-07-24T06:04:25.565Z"
   },
   {
    "duration": 4,
    "start_time": "2022-07-24T06:04:43.780Z"
   },
   {
    "duration": 3,
    "start_time": "2022-07-24T06:04:57.293Z"
   },
   {
    "duration": 5,
    "start_time": "2022-07-24T06:04:57.931Z"
   },
   {
    "duration": 62,
    "start_time": "2022-07-24T06:05:17.973Z"
   },
   {
    "duration": 13,
    "start_time": "2022-07-24T06:12:46.387Z"
   },
   {
    "duration": 11,
    "start_time": "2022-07-24T06:13:10.646Z"
   },
   {
    "duration": 143,
    "start_time": "2022-07-26T15:35:57.956Z"
   }
  ],
  "kernelspec": {
   "display_name": "Python 3 (ipykernel)",
   "language": "python",
   "name": "python3"
  },
  "language_info": {
   "codemirror_mode": {
    "name": "ipython",
    "version": 3
   },
   "file_extension": ".py",
   "mimetype": "text/x-python",
   "name": "python",
   "nbconvert_exporter": "python",
   "pygments_lexer": "ipython3",
   "version": "3.11.4"
  },
  "toc": {
   "base_numbering": 1,
   "nav_menu": {},
   "number_sections": true,
   "sideBar": true,
   "skip_h1_title": true,
   "title_cell": "Содержание",
   "title_sidebar": "Contents",
   "toc_cell": true,
   "toc_position": {
    "height": "calc(100% - 180px)",
    "left": "10px",
    "top": "150px",
    "width": "366.391px"
   },
   "toc_section_display": true,
   "toc_window_display": true
  }
 },
 "nbformat": 4,
 "nbformat_minor": 2
}
